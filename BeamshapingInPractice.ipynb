{
 "cells": [
  {
   "cell_type": "markdown",
   "metadata": {},
   "source": [
    "# Script for FIB shaping and ion knife usage in practice"
   ]
  },
  {
   "cell_type": "code",
   "execution_count": 1,
   "metadata": {},
   "outputs": [
    {
     "name": "stdout",
     "output_type": "stream",
     "text": [
      "Client connecting to [192.168.0.1:7520]...\n",
      "Client connected to [192.168.0.1:7520]\n"
     ]
    }
   ],
   "source": [
    "from autoscript_sdb_microscope_client import SdbMicroscopeClient\n",
    "from autoscript_sdb_microscope_client.structures import *\n",
    "import time\n",
    "import os\n",
    "microscope=SdbMicroscopeClient()\n",
    "microscope.connect()"
   ]
  },
  {
   "cell_type": "markdown",
   "metadata": {},
   "source": [
    "# 1. Predefined values for gaussian probe and ion knife mode\n",
    "\n",
    "### Use the following cells if you want to use the pre-defined values for gaussian probe and ion knife. Those will be rough estimates and depend on the system but should correspond to a good starting point in optimization the parameters. In order to optimize these parameters, go to section X. "
   ]
  },
  {
   "cell_type": "code",
   "execution_count": 3,
   "metadata": {},
   "outputs": [
    {
     "name": "stdout",
     "output_type": "stream",
     "text": [
      "0.01859680314795077\n",
      "Point(x=-0.0015345108,y=0.0021776181)\n"
     ]
    }
   ],
   "source": [
    "imgfocus=0.01859680314795077\n",
    "imgstig=Point(x=-0.0015345108,y=0.0021776181)\n",
    "print(imgfocus)\n",
    "print(imgstig)\n",
    "\n",
    "millfocus=0.019651918698068503\n",
    "millstig=Point(x=2.9453514,y=-3)\n",
    "print(millfocus)\n",
    "print(millstig)"
   ]
  },
  {
   "cell_type": "markdown",
   "metadata": {},
   "source": [
    "# 2. Switching between modes\n",
    "\n",
    "## 2.1 Imaging mode\n",
    "\n",
    "By running the cell below, you will switch to the pre-defined or manually refined parameters for imaging mode."
   ]
  },
  {
   "cell_type": "code",
   "execution_count": null,
   "metadata": {},
   "outputs": [],
   "source": [
    "microscope.beams.ion_beam.working_distance.value=imgfocus\n",
    "microscope.beams.ion_beam.stigmator.value=imgstig"
   ]
  },
  {
   "cell_type": "markdown",
   "metadata": {},
   "source": [
    "## 2.2 Ion knife mode\n",
    "\n",
    "By running the cell below, you will switch to the pre-defined or manually refined parameters for ion knife milling. In order to use the probe in a spot burn, press ctrl+K in the xT user interface or go to "
   ]
  },
  {
   "cell_type": "code",
   "execution_count": null,
   "metadata": {},
   "outputs": [],
   "source": [
    "microscope.beams.ion_beam.working_distance.value=millfocus\n",
    "microscope.beams.ion_beam.stigmator.value=millstig"
   ]
  },
  {
   "cell_type": "markdown",
   "metadata": {},
   "source": [
    "# 3. Manual refinement of probe parameters\n",
    "Here you can set refined parameters to be used in switching from gaussian to ion knife beam profile in Section X.\n",
    "\n",
    "\n",
    "## 3.1 Refine imaging mode\n",
    "First, adjust the stigmator for normal imaging as you are used to. By running the cell below, you will update the focus and stigmation parameter for the \"imaging\" or gaussian probe mode"
   ]
  },
  {
   "cell_type": "code",
   "execution_count": 10,
   "metadata": {},
   "outputs": [
    {
     "name": "stdout",
     "output_type": "stream",
     "text": [
      "0.018995135523610297\n",
      "Point(x=0.13545046,y=0.0014638018)\n"
     ]
    }
   ],
   "source": [
    "imgfocus=microscope.beams.ion_beam.working_distance.value\n",
    "imgstig=microscope.beams.ion_beam.stigmator.value\n",
    "print(imgfocus)\n",
    "print(imgstig)"
   ]
  },
  {
   "cell_type": "markdown",
   "metadata": {},
   "source": [
    "## 3.2 Refine ion knife mode\n",
    "In order to optimize the below, you will update the focus and stigmation parameter for the \"ion knife mode\" or gaussian probe mode. To do that, perform a gaussian spot burn in imaging mode and subsequently go to ion knife mode. If you start scanning now, you will get the convoluted image of the point-like source of the spot burn with the shape of your ion beam. This crude way of measuring beamshapes represents the basis of beamshape tableau as described with the accompanying paper. Adjust the stigmator and focus parameters as needed to generate the beam shape you wnat to achieve and update the parameters using the cell below. "
   ]
  },
  {
   "cell_type": "code",
   "execution_count": 18,
   "metadata": {},
   "outputs": [
    {
     "name": "stdout",
     "output_type": "stream",
     "text": [
      "0.020028650478568024\n",
      "Point(x=3,y=-2.7717362)\n"
     ]
    }
   ],
   "source": [
    "millfocus=microscope.beams.ion_beam.working_distance.value\n",
    "millstig=microscope.beams.ion_beam.stigmator.value\n",
    "print(millfocus)\n",
    "print(millstig)"
   ]
  },
  {
   "cell_type": "markdown",
   "metadata": {},
   "source": [
    "# 3.3 Note on milling with the ion knife\n",
    "If you plan to start an experiment with ion knifes for FIB milling, you will need to measure the beam shift between imaging and ion knife mode. You can do this by milling a spotburn of a gaussian probe and ion knife at the same x-y position in the user interface and subsequently taking and image in imaging mode. The shift between the two spot burns will be the shift you will need to apply to any patterns placed on imaging mode exposures. During this session, the measured shift was 1.4 um upwards in y in scan rotation 0 degree but this will be dependent on your imaging to milling alignments."
   ]
  },
  {
   "cell_type": "markdown",
   "metadata": {},
   "source": [
    "# 4. Generating a current dependent spot burn array to test parameters\n",
    "\n",
    "Enter the desired parameters to be tested in an array spot burn into the list below. This is usually done on a fresh silicon wafer.\n"
   ]
  },
  {
   "cell_type": "code",
   "execution_count": 20,
   "metadata": {},
   "outputs": [],
   "source": [
    "currents=[1.5e-12,10e-12,30e-12,50e-12,100e-12,300e-12,500e-12,1e-09,3e-09,5e-09,7e-09,15e-09,30e-09,50e-09,65e-09]\n",
    "spot_burn_x=5\n",
    "spot_burn_y=3\n",
    "milling_time=10\n",
    "microscope.beams.ion_beam.horizontal_field_width.value\n",
    "\n",
    "p = StagePosition(x=0.00012949999999999995, y=0)\n",
    "#microscope.specimen.stage.relative_move(p)\n",
    "\n",
    "output_dir='D:/SharedData/Sven/20230801_Beamshaping/'"
   ]
  },
  {
   "cell_type": "markdown",
   "metadata": {},
   "source": [
    "The cell below will generate an array to be exposed, set the parameters for the imaging and ion probe mode and then loop through the different positions to expose with the shaped probe. "
   ]
  },
  {
   "cell_type": "code",
   "execution_count": 13,
   "metadata": {},
   "outputs": [
    {
     "name": "stdout",
     "output_type": "stream",
     "text": [
      "[(0.1, 0.16666666666666666), (0.1, 0.5), (0.1, 0.8333333333333334), (0.3, 0.16666666666666666), (0.3, 0.5), (0.3, 0.8333333333333334), (0.5, 0.16666666666666666), (0.5, 0.5), (0.5, 0.8333333333333334), (0.7, 0.16666666666666666), (0.7, 0.5), (0.7, 0.8333333333333334), (0.9, 0.16666666666666666), (0.9, 0.5), (0.9, 0.8333333333333334)]\n"
     ]
    }
   ],
   "source": [
    "try:\n",
    "    os.mkdir(output_dir)\n",
    "except:\n",
    "    print(\"Folder already exists!\")\n",
    "\n",
    "\n",
    "def makeSpotArray(x,y):\n",
    "    '''\n",
    "    Get Number and return list with different spot burn numbers\n",
    "    '''\n",
    "    \n",
    "    result=[]\n",
    "    for i in range(x):\n",
    "        for j in range(y):\n",
    "            result.append((1.0*(i+0.5)/x,1.0*(j+0.5)/y))\n",
    "    return(result)\n",
    "\n",
    "\n",
    "spots=makeSpotArray(spot_burn_x,spot_burn_y)    \n",
    "\n",
    "\n",
    "slicingset=millstig\n",
    "slicingfocus=millfocus\n",
    "preset=imgstig\n",
    "prefocus=imgfocus"
   ]
  },
  {
   "cell_type": "code",
   "execution_count": 21,
   "metadata": {},
   "outputs": [],
   "source": [
    "stagepos=[]\n",
    "for current in currents:\n",
    "    counter=0\n",
    "    microscope.beams.ion_beam.beam_current.value=current\n",
    "    microscope.auto_functions.run_auto_cb()\n",
    "    img=microscope.imaging.grab_frame()\n",
    "    img.save(output_dir+str(current)+'_beforeExposure.tiff')\n",
    "    for spot in spots:\n",
    "        microscope.beams.ion_beam.scanning.mode.set_spot(spot[0],spot[1])\n",
    "        if counter%3==2:\n",
    "            microscope.beams.ion_beam.stigmator.value=Point(-slicingset[0],-slicingset[1])\n",
    "            microscope.beams.ion_beam.working_distance.value=slicingfocus\n",
    "        elif counter%3==1:\n",
    "            microscope.beams.ion_beam.stigmator.value=preset\n",
    "            microscope.beams.ion_beam.working_distance.value=prefocus\n",
    "        else:\n",
    "            microscope.beams.ion_beam.stigmator.value=slicingset\n",
    "            microscope.beams.ion_beam.working_distance.value=slicingfocus\n",
    "        microscope.beams.ion_beam.unblank()\n",
    "        time.sleep(milling_time)\n",
    "        microscope.beams.ion_beam.blank()\n",
    "        counter=counter+1\n",
    "    \n",
    "    microscope.beams.ion_beam.stigmator.value=preset\n",
    "    microscope.beams.ion_beam.working_distance.value=prefocus\n",
    "    img=microscope.imaging.grab_frame()\n",
    "    img.save(output_dir+str(current)+'_afterExposure.tiff')\n",
    "    stageposition=microscope.specimen.stage.current_position\n",
    "    stagepos.append(stageposition)\n",
    "    microscope.specimen.stage.relative_move(p)\n",
    "\n",
    "\n",
    "microscope.specimen.stage.absolute_move(stagepos[0])"
   ]
  },
  {
   "cell_type": "markdown",
   "metadata": {},
   "source": [
    "This concludes the introudction to ion knife usage in practice."
   ]
  }
 ],
 "metadata": {
  "kernelspec": {
   "display_name": "Python 3",
   "language": "python",
   "name": "python3"
  },
  "language_info": {
   "codemirror_mode": {
    "name": "ipython",
    "version": 3
   },
   "file_extension": ".py",
   "mimetype": "text/x-python",
   "name": "python",
   "nbconvert_exporter": "python",
   "pygments_lexer": "ipython3",
   "version": "3.6.5"
  }
 },
 "nbformat": 4,
 "nbformat_minor": 4
}
